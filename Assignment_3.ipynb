{
 "cells": [
  {
   "cell_type": "markdown",
   "id": "8f50a78c",
   "metadata": {},
   "source": [
    "# 1. Why are functions advantageous to have in your programs?"
   ]
  },
  {
   "cell_type": "markdown",
   "id": "5bff5ad2",
   "metadata": {},
   "source": [
    "Ans- Functions reduce the need for duplicate code. This makes programs shorter, easier to read, and easier to update."
   ]
  },
  {
   "cell_type": "markdown",
   "id": "47b6a72b",
   "metadata": {},
   "source": [
    "# 2. When does the code in a function run:  when it's specified or when it's called?"
   ]
  },
  {
   "cell_type": "markdown",
   "id": "eba25885",
   "metadata": {},
   "source": [
    "Ans- When a function is \"called\" the program \"leaves\" the current section of code and begins to execute the first line inside the function. "
   ]
  },
  {
   "cell_type": "markdown",
   "id": "39b6db56",
   "metadata": {},
   "source": [
    "# 3. What statement creates a function?"
   ]
  },
  {
   "cell_type": "markdown",
   "id": "5aba5af4",
   "metadata": {},
   "source": [
    "Ans- To create a function, we must first declare it and give it a name, the same way we'd create any variable, and then we follow it by a function definition: var sayHello = function() { }; We could put any code inside that function - one statement, multiple statements - depends on what we want to do."
   ]
  },
  {
   "cell_type": "markdown",
   "id": "3837c532",
   "metadata": {},
   "source": [
    "# 4. What is the difference between a function and a function call?"
   ]
  },
  {
   "cell_type": "markdown",
   "id": "fb179f75",
   "metadata": {},
   "source": [
    "Ans- A function is a block of code that does a particular operation and returns a result. It usually accepts inputs as parameters and returns a result. The parameters are not mandatory. A function call is the code used to pass control to a function."
   ]
  },
  {
   "cell_type": "markdown",
   "id": "c238b5e5",
   "metadata": {},
   "source": [
    "# 5. How many global scopes are there in a python program? How many local scopes?"
   ]
  },
  {
   "cell_type": "markdown",
   "id": "57068f9d",
   "metadata": {},
   "source": [
    "Ans- At any given time during execution, you'll have at most four active Python scopes—local, enclosing, global, and built-in—depending on where you are in the code. On the other hand, you'll always have at least two active scopes, which are the global and built-in scopes."
   ]
  },
  {
   "cell_type": "markdown",
   "id": "ad5aef89",
   "metadata": {},
   "source": [
    "# 6. What happens to variable in a local scope when the function call returns?"
   ]
  },
  {
   "cell_type": "markdown",
   "id": "e89eccec",
   "metadata": {},
   "source": [
    "Ans- When the execution of the function terminates (returns), the local variables are destroyed."
   ]
  },
  {
   "cell_type": "markdown",
   "id": "cccc2787",
   "metadata": {},
   "source": [
    "# 7. What is the concept of a return value? Is it possible to have a return value in an expression?"
   ]
  },
  {
   "cell_type": "markdown",
   "id": "9454cf9a",
   "metadata": {},
   "source": [
    "Ans- A return is a value that a function returns to the calling script or function when it completes its task. A return value can be any one of the four variable types: handle, integer, object, or string.\n",
    "     A value-returning function should include a return statement, containing an expression."
   ]
  },
  {
   "cell_type": "markdown",
   "id": "48bdb6cd",
   "metadata": {},
   "source": [
    "# 8. If a function does not have a return statement, what is the return value of a call to that function?"
   ]
  },
  {
   "cell_type": "markdown",
   "id": "68f364f4",
   "metadata": {},
   "source": [
    "Ans- If no return statement appears in a function definition, control automatically returns to the calling function after the last statement of the called function is executed. In this case, the return value of the called function is undefined."
   ]
  },
  {
   "cell_type": "markdown",
   "id": "4dd67858",
   "metadata": {},
   "source": [
    "# 9. How do you make a function variable refer to the global variable?"
   ]
  },
  {
   "cell_type": "markdown",
   "id": "9028d8ac",
   "metadata": {},
   "source": [
    "Ans- Normally, when you create a variable inside a function, that variable is local, and can only be used inside that function. To create a global variable inside a function, you can use the global keyword."
   ]
  },
  {
   "cell_type": "markdown",
   "id": "84cf1ae6",
   "metadata": {},
   "source": [
    "# 10. What is the datatype of none?"
   ]
  },
  {
   "cell_type": "markdown",
   "id": "fc2b3d18",
   "metadata": {},
   "source": [
    "Ans- The None keyword is used to define a null value, or no value at all. None is not the same as 0, False, or an empty string. None is a data type of its own (NoneType) and only None can be None."
   ]
  },
  {
   "cell_type": "markdown",
   "id": "3d3434ce",
   "metadata": {},
   "source": [
    "# 11. What does the sentence import areallyourpetsnamederic do?"
   ]
  },
  {
   "cell_type": "markdown",
   "id": "65933d0b",
   "metadata": {},
   "source": [
    "Ans- That import statement imports a module named areallyourpetsnamederic. (This isn't a real Python module, by the way.)"
   ]
  },
  {
   "cell_type": "markdown",
   "id": "4db51091",
   "metadata": {},
   "source": [
    "# 12. If you had a bacon() feature in a spam module, what would you call it after importing spam?"
   ]
  },
  {
   "cell_type": "markdown",
   "id": "ebeb50c7",
   "metadata": {},
   "source": [
    "Ans- This function can be called with spam. bacon()."
   ]
  },
  {
   "cell_type": "markdown",
   "id": "c03bf7cd",
   "metadata": {},
   "source": [
    "# 13. What can you do to save a program from crashing if it encouters an error?"
   ]
  },
  {
   "cell_type": "markdown",
   "id": "e59d9747",
   "metadata": {},
   "source": [
    "Ans- When it encounters an error, the control is passed to the except block, skipping the code in between. Try running the program and it should throw an error message instead of crashing the program."
   ]
  },
  {
   "cell_type": "markdown",
   "id": "c428bffb",
   "metadata": {},
   "source": [
    "# 14. What is the purpose of the try clause? What is the purpose of the except clause?"
   ]
  },
  {
   "cell_type": "markdown",
   "id": "ff9399c5",
   "metadata": {},
   "source": [
    "Ans- The try block lets you test a block of code for errors. The except block lets you handle the error. The else block lets you execute code when there is no error."
   ]
  }
 ],
 "metadata": {
  "kernelspec": {
   "display_name": "Python 3 (ipykernel)",
   "language": "python",
   "name": "python3"
  },
  "language_info": {
   "codemirror_mode": {
    "name": "ipython",
    "version": 3
   },
   "file_extension": ".py",
   "mimetype": "text/x-python",
   "name": "python",
   "nbconvert_exporter": "python",
   "pygments_lexer": "ipython3",
   "version": "3.9.12"
  }
 },
 "nbformat": 4,
 "nbformat_minor": 5
}
